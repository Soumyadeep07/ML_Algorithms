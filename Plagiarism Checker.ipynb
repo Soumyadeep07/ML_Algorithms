{
 "cells": [
  {
   "cell_type": "code",
   "execution_count": 2,
   "metadata": {},
   "outputs": [
    {
     "name": "stdout",
     "output_type": "stream",
     "text": [
      "\n",
      "\n",
      "Long ago, when there was no written history, these islands were the home of millions of happy birds; the resort of a hundred times more millions of fishes, sea lions, and other creatures. Here lived innumerable creatures predestined from the creation of the world to lay up a store of wealth for the British farmer, and a store of quite another sort for an immaculate Republican government.\n",
      "\n",
      "['Long ago, when there was no written history, these islands were the home of millions of happy birds; the resort of a hundred times more millions of fishes, sea lions, and other creatures', ' Here lived innumerable creatures predestined from the creation of the world to lay up a store of wealth for the British farmer, and a store of quite another sort for an immaculate Republican government', '']\n",
      "\n",
      "\n",
      "['Long ago, when there was no written histaory, these islands were the home of millions of happy birds; the resort of a hundred times more millions of fishes, sea lions, and other creatures', ' Here lived innumerable creatures predestined from the creation of the world to lay up a store of wealth for the British farmer, and a store of quite another sort for an immaculate Republican government', '']\n",
      "\n",
      "\n",
      "\n",
      " The part of the text which has plagiarism is:\n",
      "\n",
      "[' Here lived innumerable creatures predestined from the creation of the world to lay up a store of wealth for the British farmer, and a store of quite another sort for an immaculate Republican government', '']\n",
      "66.66666666666667 % Text match..\n"
     ]
    }
   ],
   "source": [
    "import nltk\n",
    "\n",
    "file1=open(r\"C:\\Users\\My_NoteBook\\Desktop\\doc1.txt\",\"r\")\n",
    "text1=file1.readline()\n",
    "#print(text1)\n",
    "\n",
    "print(\"\\n\")\n",
    "\n",
    "file2=open(r\"C:\\Users\\My_NoteBook\\Desktop\\doc2.txt\",\"r\")\n",
    "text2=file2.readline()\n",
    "#print(text2+\"\\n\")\n",
    "\n",
    "str1=''.join(text1)\n",
    "str2=''.join(text2)\n",
    "print(str1+\"\\n\")\n",
    "#print(str2+\"\\n\")\n",
    "\n",
    "sent_text1=str1.split('.')\n",
    "sent_text2=str2.split('.')\n",
    "print(sent_text1)\n",
    "print(\"\\n\")\n",
    "print(sent_text2)\n",
    "print(\"\\n\")\n",
    "\n",
    "a=len(sent_text1)\n",
    "b=len(sent_text2)\n",
    "\n",
    "print(\"\\n The part of the text which has plagiarism is:\\n\")\n",
    "\n",
    "final=[]\n",
    "for i in sent_text1:\n",
    "\tfor j in sent_text2:\n",
    "\t\tif i==j:\n",
    "\t\t\tfinal.append(i)\n",
    "print(final)\n",
    "c=len(final)\n",
    "\n",
    "percentage_match=(c*100)/b\n",
    "print(percentage_match,\"% Text match..\")"
   ]
  },
  {
   "cell_type": "code",
   "execution_count": null,
   "metadata": {},
   "outputs": [],
   "source": []
  }
 ],
 "metadata": {
  "kernelspec": {
   "display_name": "Python 3",
   "language": "python",
   "name": "python3"
  },
  "language_info": {
   "codemirror_mode": {
    "name": "ipython",
    "version": 3
   },
   "file_extension": ".py",
   "mimetype": "text/x-python",
   "name": "python",
   "nbconvert_exporter": "python",
   "pygments_lexer": "ipython3",
   "version": "3.7.1"
  }
 },
 "nbformat": 4,
 "nbformat_minor": 2
}
